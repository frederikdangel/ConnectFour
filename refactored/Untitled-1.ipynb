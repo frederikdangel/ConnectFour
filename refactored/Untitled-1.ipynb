{
 "metadata": {
  "language_info": {
   "codemirror_mode": {
    "name": "ipython",
    "version": 3
   },
   "file_extension": ".py",
   "mimetype": "text/x-python",
   "name": "python",
   "nbconvert_exporter": "python",
   "pygments_lexer": "ipython3",
   "version": "3.8.3"
  },
  "orig_nbformat": 2,
  "kernelspec": {
   "name": "python3",
   "display_name": "Python 3.8.3 64-bit ('base': conda)"
  },
  "interpreter": {
   "hash": "415bf6fd9d1100dfd2066d2c88b34aec972079c3c4f1b183feab8a8bfd8d55a2"
  }
 },
 "nbformat": 4,
 "nbformat_minor": 2,
 "cells": [
  {
   "cell_type": "code",
   "execution_count": 7,
   "metadata": {},
   "outputs": [
    {
     "output_type": "error",
     "ename": "TypeError",
     "evalue": "__init__() missing 1 required positional argument: 'writer'",
     "traceback": [
      "\u001b[1;31m---------------------------------------------------------------------------\u001b[0m",
      "\u001b[1;31mTypeError\u001b[0m                                 Traceback (most recent call last)",
      "\u001b[1;32m<ipython-input-7-9e513d9a0a48>\u001b[0m in \u001b[0;36m<module>\u001b[1;34m\u001b[0m\n\u001b[0;32m     13\u001b[0m \u001b[0mepsilon_min_after\u001b[0m \u001b[1;33m=\u001b[0m \u001b[1;36m1000\u001b[0m\u001b[1;33m\u001b[0m\u001b[1;33m\u001b[0m\u001b[0m\n\u001b[0;32m     14\u001b[0m \u001b[0mdevice\u001b[0m \u001b[1;33m=\u001b[0m \u001b[0mtorch\u001b[0m\u001b[1;33m.\u001b[0m\u001b[0mdevice\u001b[0m\u001b[1;33m(\u001b[0m\u001b[1;34m\"cuda:0\"\u001b[0m \u001b[1;32mif\u001b[0m \u001b[0mtorch\u001b[0m\u001b[1;33m.\u001b[0m\u001b[0mcuda\u001b[0m\u001b[1;33m.\u001b[0m\u001b[0mis_available\u001b[0m\u001b[1;33m(\u001b[0m\u001b[1;33m)\u001b[0m \u001b[1;32melse\u001b[0m \u001b[1;34m\"cpu\"\u001b[0m\u001b[1;33m)\u001b[0m\u001b[1;33m\u001b[0m\u001b[1;33m\u001b[0m\u001b[0m\n\u001b[1;32m---> 15\u001b[1;33m \u001b[0mtrainer\u001b[0m \u001b[1;33m=\u001b[0m \u001b[0mTrainer\u001b[0m\u001b[1;33m(\u001b[0m\u001b[0mhidden_dim\u001b[0m\u001b[1;33m,\u001b[0m \u001b[0mexperienceSize\u001b[0m\u001b[1;33m,\u001b[0m \u001b[0mdiscount\u001b[0m\u001b[1;33m,\u001b[0m \u001b[0mbatch_size\u001b[0m\u001b[1;33m,\u001b[0m \u001b[0mdevice\u001b[0m\u001b[1;33m)\u001b[0m\u001b[1;33m\u001b[0m\u001b[1;33m\u001b[0m\u001b[0m\n\u001b[0m\u001b[0;32m     16\u001b[0m \u001b[0mtrainer\u001b[0m\u001b[1;33m.\u001b[0m\u001b[0mload\u001b[0m\u001b[1;33m(\u001b[0m\u001b[1;33m)\u001b[0m\u001b[1;33m\u001b[0m\u001b[1;33m\u001b[0m\u001b[0m\n",
      "\u001b[1;31mTypeError\u001b[0m: __init__() missing 1 required positional argument: 'writer'"
     ]
    }
   ],
   "source": [
    "from Trainer import Trainer\n",
    "from Evaluator import Evaluator\n",
    "from Model import Net\n",
    "import torch\n",
    "from kaggle_environments import make, evaluate\n",
    "import numpy as np\n",
    "\n",
    "episodes = 2000\n",
    "batch_size = 32\n",
    "discount = 0.99\n",
    "hidden_dim = 300\n",
    "experienceSize = 20000\n",
    "epsilon_min_after = 1000\n",
    "device = torch.device(\"cuda:0\" if torch.cuda.is_available() else \"cpu\")\n",
    "trainer = Trainer(hidden_dim, experienceSize, discount, batch_size, device)\n",
    "trainer.load()\n"
   ]
  },
  {
   "cell_type": "code",
   "execution_count": 3,
   "metadata": {},
   "outputs": [
    {
     "output_type": "stream",
     "name": "stdout",
     "text": [
      "Agent 1 Win Percentage: 0.77\nAgent 2 Win Percentage: 0.23\nNumber of Invalid Plays by Agent 1: 0\nNumber of Invalid Plays by Agent 2: 0\n"
     ]
    }
   ],
   "source": [
    "env = make(\"connectx\", debug=True)\n",
    "env.render()\n",
    "env.reset()\n",
    "# Play as the first agent against default \"random\" agent.\n",
    "#env.run([eval.agent, \"random\"])\n",
    "#env.render(mode=\"ipython\", width=500, height=450)\n",
    "def get_win_percentages(agent1, agent2, n_rounds=100):\n",
    "    # Use default Connect Four setup\n",
    "    config = {'rows': 6, 'columns': 7, 'inarow': 4}\n",
    "    # Agent 1 goes first (roughly) half the time          \n",
    "    outcomes = evaluate(\"connectx\", [agent1, agent2], config, [], n_rounds//2)\n",
    "    # Agent 2 goes first (roughly) half the time      \n",
    "    outcomes += [[b,a] for [a,b] in evaluate(\"connectx\", [agent2, agent1], config, [], n_rounds-n_rounds//2)]\n",
    "    print(\"Agent 1 Win Percentage:\", np.round(outcomes.count([1,-1])/len(outcomes), 2))\n",
    "    print(\"Agent 2 Win Percentage:\", np.round(outcomes.count([-1,1])/len(outcomes), 2))\n",
    "    print(\"Number of Invalid Plays by Agent 1:\", outcomes.count([None, 0]))\n",
    "    print(\"Number of Invalid Plays by Agent 2:\", outcomes.count([0, None]))\n",
    "get_win_percentages(eval.agent, \"random\",100)"
   ]
  },
  {
   "cell_type": "code",
   "execution_count": 23,
   "metadata": {},
   "outputs": [
    {
     "output_type": "stream",
     "name": "stdout",
     "text": [
      "Agent 1 Win Percentage: 0.0\nAgent 2 Win Percentage: 1.0\nNumber of Invalid Plays by Agent 1: 0\nNumber of Invalid Plays by Agent 2: 0\n"
     ]
    }
   ],
   "source": [
    "from torch.utils.tensorboard import SummaryWriter\n",
    "env = make(\"connectx\", debug=True)\n",
    "env.render()\n",
    "env.reset()\n",
    "writer = SummaryWriter('test_run')\n",
    "trainer = Trainer(hidden_dim, experienceSize, discount, batch_size, device, writer)\n",
    "def agent(observation, configuration):\n",
    "    with torch.no_grad():\n",
    "        net = Net(configuration.columns * configuration.rows, hidden_dim,configuration.columns).to(device)\n",
    "        state = torch.tensor(observation['board'], dtype=torch.float)\n",
    "        reshaped = trainer.reshape(state)\n",
    "        action = trainer.takeAction(net(reshaped).view(-1), reshaped, 0, False)\n",
    "        print(action)\n",
    "        return action\n",
    "# Play as the first agent against default \"random\" agent.\n",
    "Evaluator(100, trainer).winPercentage(1)"
   ]
  },
  {
   "cell_type": "code",
   "execution_count": null,
   "metadata": {},
   "outputs": [],
   "source": []
  }
 ]
}