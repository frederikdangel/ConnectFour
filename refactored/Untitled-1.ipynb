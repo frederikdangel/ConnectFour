{
 "metadata": {
  "language_info": {
   "codemirror_mode": {
    "name": "ipython",
    "version": 3
   },
   "file_extension": ".py",
   "mimetype": "text/x-python",
   "name": "python",
   "nbconvert_exporter": "python",
   "pygments_lexer": "ipython3",
   "version": "3.8.3"
  },
  "orig_nbformat": 2,
  "kernelspec": {
   "name": "python383jvsc74a57bd0415bf6fd9d1100dfd2066d2c88b34aec972079c3c4f1b183feab8a8bfd8d55a2",
   "display_name": "Python 3.8.3 64-bit ('base': conda)"
  }
 },
 "nbformat": 4,
 "nbformat_minor": 2,
 "cells": [
  {
   "cell_type": "code",
   "execution_count": 2,
   "metadata": {},
   "outputs": [
    {
     "output_type": "stream",
     "name": "stdout",
     "text": [
      "Loading environment football failed: No module named 'gfootball'\n",
      "vs random\n",
      "Agent 1 Win Percentage: 0.54\n",
      "Agent 2 Win Percentage: 0.46\n",
      "Number of Invalid Plays by Agent 1: 0\n",
      "Number of Invalid Plays by Agent 2: 0\n"
     ]
    }
   ],
   "source": [
    "from Trainer import Trainer\n",
    "from Evaluator import Evaluator\n",
    "import torch\n",
    "from kaggle_environments import make, evaluate\n",
    "import numpy as np\n",
    "\n",
    "episodes = 2000\n",
    "batch_size = 32\n",
    "discount = 0.99\n",
    "hidden_dim = 300\n",
    "experienceSize = 20000\n",
    "epsilon_min_after = 1000\n",
    "device = torch.device(\"cuda:0\" if torch.cuda.is_available() else \"cpu\")\n",
    "trainer = Trainer(hidden_dim, experienceSize, discount, batch_size, device)\n",
    "trainer.load()\n",
    "eval = Evaluator(100,trainer)\n",
    "\n",
    "eval.winPercentage()"
   ]
  },
  {
   "cell_type": "code",
   "execution_count": 3,
   "metadata": {},
   "outputs": [
    {
     "output_type": "stream",
     "name": "stdout",
     "text": [
      "Agent 1 Win Percentage: 0.77\nAgent 2 Win Percentage: 0.23\nNumber of Invalid Plays by Agent 1: 0\nNumber of Invalid Plays by Agent 2: 0\n"
     ]
    }
   ],
   "source": [
    "env = make(\"connectx\", debug=True)\n",
    "env.render()\n",
    "env.reset()\n",
    "# Play as the first agent against default \"random\" agent.\n",
    "#env.run([eval.agent, \"random\"])\n",
    "#env.render(mode=\"ipython\", width=500, height=450)\n",
    "def get_win_percentages(agent1, agent2, n_rounds=100):\n",
    "    # Use default Connect Four setup\n",
    "    config = {'rows': 6, 'columns': 7, 'inarow': 4}\n",
    "    # Agent 1 goes first (roughly) half the time          \n",
    "    outcomes = evaluate(\"connectx\", [agent1, agent2], config, [], n_rounds//2)\n",
    "    # Agent 2 goes first (roughly) half the time      \n",
    "    outcomes += [[b,a] for [a,b] in evaluate(\"connectx\", [agent2, agent1], config, [], n_rounds-n_rounds//2)]\n",
    "    print(\"Agent 1 Win Percentage:\", np.round(outcomes.count([1,-1])/len(outcomes), 2))\n",
    "    print(\"Agent 2 Win Percentage:\", np.round(outcomes.count([-1,1])/len(outcomes), 2))\n",
    "    print(\"Number of Invalid Plays by Agent 1:\", outcomes.count([None, 0]))\n",
    "    print(\"Number of Invalid Plays by Agent 2:\", outcomes.count([0, None]))\n",
    "get_win_percentages(eval.agent, \"random\",100)"
   ]
  },
  {
   "cell_type": "code",
   "execution_count": null,
   "metadata": {},
   "outputs": [],
   "source": []
  }
 ]
}